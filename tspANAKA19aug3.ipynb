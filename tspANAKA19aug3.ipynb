{
 "cells": [
  {
   "cell_type": "markdown",
   "metadata": {},
   "source": [
    "# TSP (巡回セールスマン問題)"
   ]
  },
  {
   "cell_type": "markdown",
   "metadata": {},
   "source": [
    "###############################"
   ]
  },
  {
   "cell_type": "markdown",
   "metadata": {},
   "source": [
    "<h2><b> [Formulation Start] </b></h2>\n",
    "<h3><b>はじめに、Traveling Salesman Problem を、Ising Model で、とくための、Formulationを、みる。</b></h3>"
   ]
  },
  {
   "cell_type": "markdown",
   "metadata": {},
   "source": [
    "有名な、Traveling Salesman Problem の、ていぎは、つぎ、である。　「Traveling Salesman が、N個の、まちを、それぞれ、1回だけ、おとずれて、もとに、かえる。　そのときの、キョリの、合計が、minimumに、なる、ルートを、みつけよ。」"
   ]
  },
  {
   "cell_type": "markdown",
   "metadata": {},
   "source": [
    "<b>Ising Model Formulation の、スタート。</b><br>\n",
    "まずは、あたいが、１ か、０を、とる、変数ｎを、よういする。<br>\n",
    "　　　　n = 1 or 0.　　　　　　　　　　　　　<b>(1)</b><br>\n",
    "Ising Model Spin における、スピン変数ｓは、あたいが、＋１か－１を、とる。　　だから、ｎは、ｓで、かきあらわす、ことが、できる。<br>\n",
    "　　　　n = (s+1)/2,　　 s = 1 or -1.　　　　　<b>(2)</b>　　<br>\n",
    "\n"
   ]
  },
  {
   "cell_type": "markdown",
   "metadata": {},
   "source": [
    "N 個の、まちを、i = 0, 1, 2, ... , (N-1) と、番号づけする。　　いまの、もんだいでは、おとずれる、順番が、たいせつである。　順番を、step = 0, 1, 2, ... , (N-1) とする。　この、「step」は、変形した、「時間」とも、かんがえる、ことが、できる、ので、「step (= 時間 = time = t)」 t = 0, 1, 2, ... , (N-1) という、へんすう、ｔを、つかう。　<b>step t で、まち j に、salesmanが、そんざい、するか、しないか、に、対応して、</b><br>\n",
    "　　　　n(t,i) = 1, or 0,　　　　　　　　　　　<b>(3)</b><br>  \n",
    "と、おく。 ここで、変数 ｎ は、２次元配列を、つかう、ひつようが、ある。<br>\n",
    "　　　　n(t,i) = 1, or 0, 　( for 0 =< t, i =< (N-1) ), 　　<b>(4)</b><br>\n",
    "まち i と、まち j の、キョリを、<br>\n",
    "　　　　d(i,j)　　 　　　　　　　　　　　　　<b>(5)</b><br>\n",
    "と、する。  いま、セールスマンが、「step t で、まち i を、とおり」、「step t+1 で、まち j を、とおる」とき、つぎの、かたち、<br>\n",
    "　　　　d(i,j) * n(t,i) * n(t+1,j)　　　 　　　　　　<b>(6)</b><br>"
   ]
  },
  {
   "cell_type": "markdown",
   "metadata": {},
   "source": [
    "を、かんがえると、<br>\n",
    "　　　　n(t,i) = 1,　　n(t+1,j) = 1, 　　　　　　　　<b>(7)</b><br>\n",
    "の、ときだけ、カウントされ、それいがいは、カウントが、ゼロとなる。　この、かたちを、あらゆる、i, j の、くみあわせに、ついて、sum up して、さらに、step t を、t=0,1, ... N-1, に、ついて、sum up すると、すべての、かのうな、ルートを、たどる、ときの、合計キョリ H_0 と、なる。"
   ]
  },
  {
   "cell_type": "markdown",
   "metadata": {},
   "source": [
    "　　　　H_0 = Σ _ t   Σ _ i   Σ _ j   d(i,j) * n(t,i) * n(t+1,j), 　　　　<b>(8)</b><br>\n",
    "Σ _ t は、「 t = 0, 1, 2, ... , N-1 の、sum を、とる 」 ことを、いみする。  Σ _ i、 Σ _ j　も、どうよう。   "
   ]
  },
  {
   "cell_type": "markdown",
   "metadata": {},
   "source": [
    "ただし、境界条件として、セールスマンは、さいごに、もとの、まちに、もどる、とすると、step = Nは、step = 0, に、もどす、こととなる。<br>　\n",
    "　　　n(N,j) = n(0,j), 　　　　　　　　　　<b>(9)</b><br>　"
   ]
  },
  {
   "cell_type": "markdown",
   "metadata": {},
   "source": [
    "<b>うえでは、まだ、じょうけんの、ぎろんが、なかった。</b>　いまの、もんだいでは、セールスマンは、同一時刻＝同一ステップでは、（ふたつ、以上ではなく）ひとつだけの、まち、にしか、滞在できない。　式では、<br>\n",
    "　　　　n(t,0) + n(t,1) + n(t,2) + ... +n(t,N-1) -1 = 0, 　(for all t)　　<b>(10)</b><br>\n",
    "どうように、ひとつの、まちは、かならず、セールスマンが、1回だけ、おとずれる。　式では、<br>\n",
    "　　　　n(0,i) + n(1,i) + n(2,i) + ... +n(N-1,i) -1 = 0, 　(for all i)　　<b>(11)</b><br>\n",
    "が、なりたつ。"
   ]
  },
  {
   "cell_type": "markdown",
   "metadata": {},
   "source": [
    "この条件式を、最小問題に、するには、２乗の和を、とり、つぎの、ように、する。 H_1, H_2を、つぎで、あたえる。<br>\n",
    "　　　　H_1 = A Σ _ t　(  n(t,0) + n(t,1) + n(t,2) + ... +n(t,N-1) -1  )^2, 　（A>0)　<b>(12)</b><br>　　    \n",
    "　　　　H_2 = B Σ _ i　(  n(0,i) + n(1,i) + n(2,i) + ... +n(N-1,i) -1  )^2, 　 (B>0)　  <b>(13)</b><br>"
   ]
  },
  {
   "cell_type": "markdown",
   "metadata": {},
   "source": [
    "( A , B = constants )。　これらが、minimunに、なるものを、もとめれば、よい。もとの、キョリの式と、条件式とを、あわせると、<br>\n",
    "　　　　H = H_0 + H_1 + H_2, 　　　　　　　　　　　　　　　　<b>(14)</b><br>\n",
    "で、あたえられた、H　が、minimumになる、ものを、もとめれば、よい。"
   ]
  },
  {
   "cell_type": "markdown",
   "metadata": {},
   "source": [
    "これからの、式変形では、変数 n(t,i) は、1 or 0 より、<br>\n",
    "　　　　( n(t,i) )^2 = n(t,i), 　　　　　　　　　　　　　　<b>(15)</b><br>\n",
    "が、なりたつ、ことも、つかう。"
   ]
  },
  {
   "cell_type": "markdown",
   "metadata": {},
   "source": [
    "いじょうで、theoryのきほん、ぶぶんは、おわった。　あとは、変数ｎを、スピン変数ｓに、かきかえれば、\n",
    "Ising Model Formulation が、おわる。"
   ]
  },
  {
   "cell_type": "markdown",
   "metadata": {},
   "source": [
    "H_1を、へんけい、する。<br>\n",
    "　　　　H_1 = A  Σ _ t ( Σ _i n(t,i) -1 )^2 <br>\n",
    "　　　　　　= A  Σ _ t ( Σ _i n(t,i) -1 ) ( Σ _j n(t,j) -1 ) <br>\n",
    "　　　　　　= A  Σ _ t [ Σ _i,j n(t,i) n(t,j) -2 Σ _i n(t,i) + 1 ] <br>\n",
    "　　　　　　= A  Σ _ t [ Σ _i,j (i=/=j) n(t,i) n(t,j) + Σ _i n(t,i)^2 -2 Σ _ i n(t,i) + 1 ] <br>\n",
    "　　　　　　= A Σ _ t [ Σ _i,j (i=/=j) n(t,i) n(t,j) - Σ _i n(t,i) + 1 ] <br>\n",
    "　　　　　　= A Σ _t,i,j (i=/=j) n(t,i) n(t,j) - A Σ _t,i n(t,i) + AN, 　　　<b>(16)</b><br>      \n",
    "      \n",
    "         "
   ]
  },
  {
   "cell_type": "markdown",
   "metadata": {},
   "source": [
    "H_2を、どうように、へんけい、する。<br>\n",
    "　　　　H_2 = B  Σ _ i ( Σ _ t n(t,i) -1 )^2 <br>\n",
    "　　　　　　= B Σ _ t,t',i (t=/=t') n(t,i) n(t',i) - B Σ _ t,i n(t,i) + BN, 　　<b>(17)</b><br>\n",
    "      "
   ]
  },
  {
   "cell_type": "markdown",
   "metadata": {},
   "source": [
    "<b>これらの、H_0, H_1, H_2を、スピン変数 s(t,i) で、かきかえる。</b>"
   ]
  },
  {
   "cell_type": "markdown",
   "metadata": {},
   "source": [
    "　　　　n(t,i) = (1/2)( s(t,i) + 1 ), 　　　　　　　　　　　　　　　　<b>(18)</b><br>"
   ]
  },
  {
   "cell_type": "markdown",
   "metadata": {},
   "source": [
    "　　　　H_0 = (1/4) Σ _t,i,j d(i,j) ( s(t,i) + 1) ( s(t+1,j) + 1), 　<br> \n",
    "　　　　　　= (1/4) Σ _t,i,j d(i,j) s(t,i) s(t+1,j)　+　(1/4) Σ _t,i,j d(i,j) s(t,i) <br>\n",
    "　　　　　　　+ (1/4) Σ _t,i,j d(i,j) s(t+1,i)　+　(1/4) Σ _t,i,j d(i,j), <br>\n",
    "　　　　　　= (1/4) Σ _t,i,j d(i,j) s(t,i) s(t+1,j) + (1/4) Σ _t,i,j ２ d(i,j) s(t,i)<br>\n",
    "　　　　　　　+ (1/4) Σ _t,i,j d(i,j), <br>\n",
    "　　　　　　= (1/4) Σ _t,i,j d(i,j) s(t,i) s(t+1,j) + (1/4) Σ _t,i ２ D(i) s(t,i)<br>\n",
    "　　　　　　　+ (1/4) N Σ _i,j d(i,j), <br>\n",
    "　　　　where <br>\n",
    "　　　　　　D(i) == Σ _j d(i,j), 　 　　　　　　    　　　　<b>(19)</b><br>"
   ]
  },
  {
   "cell_type": "markdown",
   "metadata": {},
   "source": [
    "　　　　H_1 = A [ Σ _t,i,j (i=/=j) n(t,i) n(t,j) - Σ _t,i n(t,i) + N ], <br>\n",
    "　　　　　　= (1/4)A [ Σ _t,i,j (i=/=j) (s(t,i)+1)(s(t,j)+1) -2 Σ _t,i (s(t,i)+1) + 4 N ], <br>\n",
    "　　　　　　= (1/4)A [ Σ _t,i,j (i=/=j) s(t,i)s(t,j) + 2(N-1) Σ _t,i s(t,i) + N^2(N-1)<br>\n",
    "　　　　　　　　　-2 Σ _t,i s(t,i)  -2 N^2 + 4N ], <br> \n",
    "　　　　　　= (1/4)A [ Σ _t,i,j (i=/=j) s(t,i)s(t,j) + 2(N-2) Σ _t,i s(t,i)           + N^2(N-3) + 4N ],<br>\n",
    "　　　　　　　　　　　　　　　　　　　　　　　　　　　　　　　<b>(20)</b><br> \n",
    "               \n"
   ]
  },
  {
   "cell_type": "markdown",
   "metadata": {},
   "source": [
    "　　　　H_2 = B [ Σ _t,t',i (t=/=t') n(t,i) n(t',i) - Σ _t,i n(t,i) + N ], <br>\n",
    "　　　　　　= (1/4)B [ Σ _t,t',i (t=/=t') (s(t,i)+1)( s(t',i)+1) -2 Σ _t,i   (s(t,i)+1) + 4N ],<br>\n",
    "　　　　　　= (1/4)B [ Σ _t,t',i (t=/=t') s(t,i)s(t',i)+2(N-1) Σ _t,i s(t,i) + N^2(N-1)<br>\n",
    "　　　　　　　-2 Σ _t,i s(t,i) -2N^2 + 4N ],<br>\n",
    "　　　　　= (1/4)B [ Σ _t,t',i (t=/=t') s(t,i)s(t',i) + 2(N-2) Σ _t,i s(t,i) + N^2(N-3) + 4N ],<br>\n",
    "　　　　　　　　　　　　　　　　　　　　　　　　　　　　　　　　　<b>(21)</b><br>"
   ]
  },
  {
   "cell_type": "markdown",
   "metadata": {},
   "source": [
    "<b>この、H = H_0 + H_1 + H_2 の、けっかで、s(t,i) の、２次、１次、０次、を、H_(quad), H_(lin), H_(const), と、よぶことに、する。</b>"
   ]
  },
  {
   "cell_type": "markdown",
   "metadata": {},
   "source": [
    "　　　　H = H_0 + H_1 + H_2 = H_(quad) + H_(lin) + H_(const),　　　　　<b>(22)</b><br>"
   ]
  },
  {
   "cell_type": "markdown",
   "metadata": {},
   "source": [
    "　　　　4H_(quad) = Σ _t,i,j d(i,j) s(t,i) s(t+1,j) + Σ _t,i,j (i=/=j) A s(t,i)s(t,j)<br>\n",
    "　　　　　　　　　　+ Σ _t,t',i (t=/=t') B s(t,i)s(t',i),<br>\n",
    "　　　　　　　　　= Σ _t,i,j d(i,j) s(t,i) s(t+1,j) + Σ _t,i,j (i<j) 2A s(t,i)s(t,j)<br>\n",
    "　　　　　　　　　　+ Σ _t,t',i (t<t') 2B s(t,i)s(t',i), 　　　　　　　<b>(23)</b><br>  "
   ]
  },
  {
   "cell_type": "markdown",
   "metadata": {},
   "source": [
    "　　　　4H_(lin) = Σ _ t,i  2[ D(i) + (A+B)(N-2) ] s(t,i), 　　　　　　　<b>(24)</b><br>\n",
    "　　　　4H_(const) = N Σ _ i,j d(i,j) + (A+B)( N^2(N-3) + 4N ),  　　　<b>(25)</b><br>"
   ]
  },
  {
   "cell_type": "markdown",
   "metadata": {},
   "source": [
    "<h2><b>[Formulation End]</b></h2>\n",
    "<b>これで、Ising Spin Model の、かたちが、かんぜんに、さだまった。<br>\n",
    "Ising Spin Model Formulationが、おわった。<br>\n",
    "つぎには、programming に、はいる。   </b>\n",
    "<h2><b>[Programing Start]</b></h2>"
   ]
  },
  {
   "cell_type": "markdown",
   "metadata": {},
   "source": [
    "きほんてきな、import を、する。"
   ]
  },
  {
   "cell_type": "code",
   "execution_count": 155,
   "metadata": {},
   "outputs": [],
   "source": [
    "%matplotlib inline\n",
    "# import time\n",
    "\n",
    "import matplotlib.pyplot as plt\n",
    "import numpy as np\n",
    "import dimod\n",
    "import neal"
   ]
  },
  {
   "cell_type": "markdown",
   "metadata": {},
   "source": [
    "<b>（インプット・データ）「まちの、位置座標データ」の、作成。（とりあえずは、ランダムに、つくる。）</b>"
   ]
  },
  {
   "cell_type": "markdown",
   "metadata": {},
   "source": [
    "Traveling Salesman が、たずねる、citiesの、座標を、randomに、つくりだす。<br>\n",
    "変数のタイプは、NumPy array とする。"
   ]
  },
  {
   "cell_type": "code",
   "execution_count": 156,
   "metadata": {},
   "outputs": [],
   "source": [
    "############## numCities0 ==> number of cities\n",
    "############## len0 ==> max limit value of x, y coordinates of cities\n",
    "from random import random\n",
    "def makeCityXYCoords(numCities0,len0):\n",
    "    from random import random\n",
    "    list0=[[len0*random(),len0*random()] for i0 in range(numCities0)]\n",
    "    posi0=np.array(list0)\n",
    "    return posi0\n",
    "#"
   ]
  },
  {
   "cell_type": "markdown",
   "metadata": {},
   "source": [
    "ところで、https://qiita.com/YuichiroMinato/items/d6e46d5d71123a7d4655　の、Dwave quantum machine 記事では、Ising Spin System coefficientsは、<br>\n",
    "　　　　-1 < J _ij < +1, -2 < h _i < +2 <br>\n",
    "( J _ij ==> spin-spin coeff, h _i ==> spin coeff ) が、のぞましい、と、あるので、このはんい\n",
    "の、データを、あたえて、みる。"
   ]
  },
  {
   "cell_type": "code",
   "execution_count": 96,
   "metadata": {},
   "outputs": [
    {
     "name": "stdout",
     "output_type": "stream",
     "text": [
      "[[0.02307767 0.09882739]\n",
      " [0.06877672 0.04147369]\n",
      " [0.08912533 0.09223746]\n",
      " [0.05114626 0.02339606]]\n"
     ]
    },
    {
     "data": {
      "image/png": "[encoded data removed]",
      "text/plain": [
       "<Figure size 432x288 with 1 Axes>"
      ]
     },
     "metadata": {
      "needs_background": "light"
     },
     "output_type": "display_data"
    }
   ],
   "source": [
    "numCities00=4\n",
    "posi11=makeCityXYCoords(numCities00,0.1); print(posi11)\n",
    "########### nCities の、graphを、えがく。\n",
    "plt.plot(posi11[:,0],posi11[:,1]);  plt.show()"
   ]
  },
  {
   "cell_type": "markdown",
   "metadata": {},
   "source": [
    "<b>（インプット・データ）「まちの、位置座標データ」の、作成は、おわった。<br>\n",
    "つぎは、まちの、あいだの、キョリ、最大キョリ、などの、def作成。</b>"
   ]
  },
  {
   "cell_type": "markdown",
   "metadata": {},
   "source": [
    "nCities の、座標値が、あたえられた、ときに、i0-th, j0-th の、キョリ distance を、けいさんする。"
   ]
  },
  {
   "cell_type": "code",
   "execution_count": 98,
   "metadata": {},
   "outputs": [],
   "source": [
    "############# distance を、あたえる。\n",
    "def dist(posi0,i0,j0):\n",
    "    z0 = posi0[i0]\n",
    "    z1 = posi0[j0]\n",
    "    return np.sqrt(((z0-z1)**2).sum())"
   ]
  },
  {
   "cell_type": "code",
   "execution_count": 99,
   "metadata": {},
   "outputs": [
    {
     "name": "stdout",
     "output_type": "stream",
     "text": [
      "0.07333382581254591\n"
     ]
    }
   ],
   "source": [
    "print(dist(posi11,0,1))"
   ]
  },
  {
   "cell_type": "markdown",
   "metadata": {},
   "source": [
    "つぎに、distSum(i) ==> 「sum of all distances of other cities measured from the i-th city」、とする。 これを、定義する。"
   ]
  },
  {
   "cell_type": "code",
   "execution_count": 100,
   "metadata": {},
   "outputs": [],
   "source": [
    "############# distSum\n",
    "def distSum(posi0,i0):\n",
    "    nCities0=len(posi0)\n",
    "    sum0=0.0\n",
    "    for j0 in range(nCities0):\n",
    "        sum0=sum0+dist(posi0,i0,j0)\n",
    "    return sum0\n",
    "###"
   ]
  },
  {
   "cell_type": "markdown",
   "metadata": {},
   "source": [
    "distSum()を、なんかいもの、けいさんの、リピートを、さけるため、１どだけ、けいさん、して、リスト distSumList に、いれておく。　２かいめ、からは、これから、よみだす。"
   ]
  },
  {
   "cell_type": "code",
   "execution_count": 166,
   "metadata": {},
   "outputs": [],
   "source": [
    "############## List of distSum()\n",
    "def distSumList(posi0):\n",
    "    nCities0=len(posi0)\n",
    "    lis0=[distSum(posi0,i0) for i0 in range(nCities0)]\n",
    "    return lis0\n",
    "#"
   ]
  },
  {
   "cell_type": "code",
   "execution_count": 101,
   "metadata": {},
   "outputs": [
    {
     "name": "stdout",
     "output_type": "stream",
     "text": [
      "[0.22019377570518295, 0.15327551138278667, 0.19968869854466437, 0.1843585735055286]\n"
     ]
    }
   ],
   "source": [
    "print(distSumList(posi11))"
   ]
  },
  {
   "cell_type": "markdown",
   "metadata": {},
   "source": [
    "つぎには、Citiesの、あいだでの、キョリの、最大 ( == maxDist ) を、けいさんする。<br>\n",
    "（　結果的には、いまのRunには、これ maxDist は、つかわ、なかった！　）"
   ]
  },
  {
   "cell_type": "code",
   "execution_count": 103,
   "metadata": {},
   "outputs": [],
   "source": [
    "############# max distance among all cities\n",
    "def maxDist(posi0):\n",
    "    numCities=len(posi0)\n",
    "    max_dist=0.0\n",
    "    for i0 in range(numCities):\n",
    "        for j0 in range(i0+1,numCities,1):\n",
    "            d=dist(posi0,i0,j0)\n",
    "            if d>max_dist:\n",
    "                max_dist = d\n",
    "    return max_dist\n",
    "###"
   ]
  },
  {
   "cell_type": "markdown",
   "metadata": {},
   "source": [
    "<b>キョリ関連の、def作成が、おわった。<br>\n",
    "つぎは、Ising Spin 変数 s(t,i) の、１次の、けいすうを、作成。</b><br>\n",
    "H = H_(quad), H_(lin), H_(const)、の、表現より、４H のほうが、かんたんだから、\n",
    "これからは、４Hで、programを、かんがえる、ことに、する。<br>\n",
    "4H _(lin) = Σ _ t,i 2[ D(i) + (A+B)(N-2) ] s(t,i), だから、s(t,i)の、けいすうを、\n",
    "python dictionary type で、さくせい、する。"
   ]
  },
  {
   "cell_type": "code",
   "execution_count": 104,
   "metadata": {},
   "outputs": [],
   "source": [
    "##############\n",
    "def spinCoefLin(posi0,A0,distSumList0):\n",
    "    A = A0\n",
    "    B = A0\n",
    "    numCities0 = len(posi0)\n",
    "    dic0={}\n",
    "    for t0 in range(numCities0):\n",
    "        for i0 in range(numCities0):\n",
    "            val0=2*( distSumList0[i0] + (A+B)*(numCities0-2) )\n",
    "            dic0.setdefault((t0,i0),val0)\n",
    "    return dic0\n",
    "#"
   ]
  },
  {
   "cell_type": "code",
   "execution_count": 105,
   "metadata": {},
   "outputs": [],
   "source": [
    "distSumList0=distSumList(posi11)\n",
    "linear00=spinCoefLin(posi11,10.0,distSumList0)"
   ]
  },
  {
   "cell_type": "markdown",
   "metadata": {},
   "source": [
    "<b>つぎは、Ising Spin 変数 s(t,i) の、２次の、けいすうを、作成する。</b><br>\n",
    "4H_(quad) = Σ _ t,i,j d(i,j) s(t,i) s(t+1,j) + Σ _ t,i,j (i<j) 2A s(t,i)s(t,j) + Σ _ t,t',i (t<t') 2B s(t,i)s(t',i), 　　だから、つぎの、ように、けいすうを、\n",
    "python dictionary type で、さくせい、する。"
   ]
  },
  {
   "cell_type": "code",
   "execution_count": 172,
   "metadata": {},
   "outputs": [],
   "source": [
    "######################\n",
    "def spinCoefQuad01(posi0):\n",
    "    numCities0 = len(posi0)\n",
    "    max_dist = 0\n",
    "    dic0 = {}\n",
    "    for t0 in range(numCities0):\n",
    "        for i0 in range(numCities0):\n",
    "            for j0 in range(numCities0):\n",
    "                d0 = dist(posi0,i0,j0)\n",
    "                if d0 > max_dist:\n",
    "                    max_dist = d0\n",
    "                dic0.setdefault( ( (t0,i0),((t0+1)%numCities0,j0) ), d0 )\n",
    "    return dic0, max_dist\n",
    "#"
   ]
  },
  {
   "cell_type": "code",
   "execution_count": 173,
   "metadata": {},
   "outputs": [],
   "source": [
    "######################\n",
    "def spinCoefQuad02(posi0,A0):\n",
    "    numCities0 = len(posi0)\n",
    "    val0 = A0*2.0\n",
    "    dic0 = {}\n",
    "    for t0 in range(numCities0):\n",
    "        for i0 in range(numCities0):\n",
    "            for j0 in range(i0+1,numCities0,1):\n",
    "                dic0.setdefault( ((t0,i0),(t0,j0)),val0 )\n",
    "    return dic0\n",
    "#"
   ]
  },
  {
   "cell_type": "code",
   "execution_count": 174,
   "metadata": {},
   "outputs": [],
   "source": [
    "######################\n",
    "def spinCoefQuad03(posi0,B0):\n",
    "    numCities0 = len(posi0)\n",
    "    val0 = B0*2.0\n",
    "    dic0 = {}\n",
    "    for i0 in range(numCities0):\n",
    "        for t0 in range(numCities0):\n",
    "            for t1 in range(t0+1,numCities0,1):\n",
    "                dic0.setdefault( ((t0,i0),(t1,i0)),val0 )\n",
    "    return dic0\n",
    "#"
   ]
  },
  {
   "cell_type": "code",
   "execution_count": 18,
   "metadata": {},
   "outputs": [],
   "source": [
    "##########################\n",
    "def spinCoefQuad(posi0,A0):\n",
    "    dic01=spinCoefQuad01(posi0)\n",
    "    dic02=spinCoefQuad02(posi0,A0)\n",
    "    dic03=spinCoefQuad03(posi0,A0)\n",
    "    quad00=dic01[0]\n",
    "    quad00.update(dic02)\n",
    "    quad00.update(dic03)\n",
    "    return quad00\n",
    "#"
   ]
  },
  {
   "cell_type": "code",
   "execution_count": 106,
   "metadata": {},
   "outputs": [],
   "source": [
    "quad00=spinCoefQuad(posi11,10.0)"
   ]
  },
  {
   "cell_type": "code",
   "execution_count": 55,
   "metadata": {},
   "outputs": [],
   "source": [
    "# print(quad00)"
   ]
  },
  {
   "cell_type": "code",
   "execution_count": 107,
   "metadata": {},
   "outputs": [],
   "source": [
    "solver=neal.SimulatedAnnealingSampler()"
   ]
  },
  {
   "cell_type": "code",
   "execution_count": 108,
   "metadata": {},
   "outputs": [
    {
     "name": "stdout",
     "output_type": "stream",
     "text": [
      "{(0, 0): -1, (0, 1): -1, (0, 2): 1, (0, 3): -1, (1, 0): 1, (1, 1): -1, (1, 2): -1, (1, 3): -1, (2, 0): -1, (2, 1): -1, (2, 2): -1, (2, 3): 1, (3, 0): -1, (3, 1): 1, (3, 2): -1, (3, 3): -1}\n"
     ]
    }
   ],
   "source": [
    "response=solver.sample_ising(linear00,quad00,num_reads=3)\n",
    "print(response.first.sample)"
   ]
  },
  {
   "cell_type": "markdown",
   "metadata": {},
   "source": [
    "response の、このデータから、Cityの、visiting-order を、ひろいだす、かんすうを、よういする。"
   ]
  },
  {
   "cell_type": "code",
   "execution_count": 110,
   "metadata": {},
   "outputs": [],
   "source": [
    "##################### response から、visiting-order Listに、へんかん、する。\n",
    "def visitingOrder(response0):\n",
    "    dic0=response0.first.sample\n",
    "    list0=[]\n",
    "    for key in dic0:\n",
    "        if 1==dic0[key]:\n",
    "            list0.append(key)\n",
    "    #print(list0)\n",
    "    list1=[]\n",
    "    for i0 in list0:\n",
    "        list1.append(i0[1])\n",
    "    #print(list1)\n",
    "    return list1       "
   ]
  },
  {
   "cell_type": "markdown",
   "metadata": {},
   "source": [
    "さいごに、この、じゅんばんでの、みちすじの、Graphを、drawしたい。"
   ]
  },
  {
   "cell_type": "code",
   "execution_count": 182,
   "metadata": {},
   "outputs": [],
   "source": [
    "#################### X, Y coords を、もとデータから、ならべかえる。\n",
    "def reOrder(npArray0,visitOrderList0):\n",
    "    vOList0=visitOrderList0\n",
    "    len0=len(vOList0)\n",
    "    list0=[]\n",
    "    for i0 in range(len0):\n",
    "        list0.append(npArray0[vOList0[i0]])\n",
    "    list0.append(list0[0])    \n",
    "    return np.array(list0)    \n",
    "#    "
   ]
  },
  {
   "cell_type": "code",
   "execution_count": 183,
   "metadata": {},
   "outputs": [],
   "source": [
    "def drawMiniRoute(posi0,visitOrderList0):\n",
    "    posi22=reOrder(posi0,visitOrderList0)\n",
    "    plt.plot(posi22[:,0],posi22[:,1])\n",
    "    plt.show()"
   ]
  },
  {
   "cell_type": "code",
   "execution_count": 113,
   "metadata": {},
   "outputs": [
    {
     "data": {
      "image/png": "[encoded data removed]",
      "text/plain": [
       "<Figure size 432x288 with 1 Axes>"
      ]
     },
     "metadata": {
      "needs_background": "light"
     },
     "output_type": "display_data"
    }
   ],
   "source": [
    "drawMiniRoute(posi11,response)"
   ]
  },
  {
   "cell_type": "markdown",
   "metadata": {},
   "source": [
    "これで、N=4 の、classical annealing が、ひとつ、Runできた。"
   ]
  },
  {
   "cell_type": "code",
   "execution_count": 90,
   "metadata": {},
   "outputs": [],
   "source": [
    "#################################################################\n",
    "#################################################################\n",
    "#################################################################\n",
    "#################################################################\n",
    "#################################################################"
   ]
  },
  {
   "cell_type": "markdown",
   "metadata": {},
   "source": [
    "<h3><b>くぎりの、よい、ところで、Programming を、はじめから、せいり、しなおそう。</b></h3>"
   ]
  },
  {
   "cell_type": "code",
   "execution_count": 1,
   "metadata": {},
   "outputs": [],
   "source": [
    "############### きほんてきな、import \n",
    "# import time\n",
    "\n",
    "import matplotlib.pyplot as plt\n",
    "import numpy as np\n",
    "import dimod\n",
    "import neal\n",
    "from dwave.system.samplers import DWaveSampler        # for quantum machine\n",
    "from dwave.system.composites import EmbeddingComposite #for quantum machine"
   ]
  },
  {
   "cell_type": "markdown",
   "metadata": {},
   "source": [
    "<b><h3>[def start]</h3><b>"
   ]
  },
  {
   "cell_type": "code",
   "execution_count": 18,
   "metadata": {},
   "outputs": [],
   "source": [
    "############## まちの、X, Y 座標データを、つくる、def\n",
    "############## numCities0 ==> number of cities\n",
    "############## len0 ==> max limit value of x, y coordinates of cities\n",
    "from random import random\n",
    "def makeCityXYCoords(numCities0,len0):\n",
    "    from random import random\n",
    "    list0=[[len0*random(),len0*random()] for i0 in range(numCities0)]\n",
    "    posi0=np.array(list0)\n",
    "    return posi0\n",
    "#"
   ]
  },
  {
   "cell_type": "code",
   "execution_count": 19,
   "metadata": {},
   "outputs": [],
   "source": [
    "#############  ふたつの、まちの、あいだの、distanceを、あたえる、def\n",
    "############# \n",
    "def dist(posi0,i0,j0):\n",
    "    z0 = posi0[i0]\n",
    "    z1 = posi0[j0]\n",
    "    return np.sqrt(((z0-z1)**2).sum())"
   ]
  },
  {
   "cell_type": "code",
   "execution_count": 20,
   "metadata": {},
   "outputs": [],
   "source": [
    "############# きょりの、部分的Sumを、あたえる、def\n",
    "############# distSum\n",
    "def distSum(posi0,i0):\n",
    "    nCities0=len(posi0)\n",
    "    sum0=0.0\n",
    "    for j0 in range(nCities0):\n",
    "        sum0=sum0+dist(posi0,i0,j0)\n",
    "    return sum0\n",
    "###"
   ]
  },
  {
   "cell_type": "code",
   "execution_count": 21,
   "metadata": {},
   "outputs": [],
   "source": [
    "############## きょりの、部分的Sumの、Listを、あたえる、def\n",
    "############## List of distSum()\n",
    "def distSumList(posi0):\n",
    "    nCities0=len(posi0)\n",
    "    lis0=[distSum(posi0,i0) for i0 in range(nCities0)]\n",
    "    return lis0\n",
    "#"
   ]
  },
  {
   "cell_type": "code",
   "execution_count": 22,
   "metadata": {},
   "outputs": [],
   "source": [
    "############## Ising System の、linear coefficientsを、あたえる、def \n",
    "##############\n",
    "def spinCoefLin(posi0,A0,distSumList0):\n",
    "    A = A0\n",
    "    B = A0\n",
    "    numCities0 = len(posi0)\n",
    "    dic0={}\n",
    "    for t0 in range(numCities0):\n",
    "        for i0 in range(numCities0):\n",
    "            val0=2*( distSumList0[i0] + (A+B)*(numCities0-2) )\n",
    "            dic0.setdefault((t0,i0),val0)\n",
    "    return dic0\n",
    "#"
   ]
  },
  {
   "cell_type": "code",
   "execution_count": 23,
   "metadata": {},
   "outputs": [],
   "source": [
    "######################　Ising System の、２次の、coefficientsの、第1項\n",
    "def spinCoefQuad01(posi0):\n",
    "    numCities0 = len(posi0)\n",
    "    max_dist = 0\n",
    "    dic0 = {}\n",
    "    for t0 in range(numCities0):\n",
    "        for i0 in range(numCities0):\n",
    "            for j0 in range(numCities0):\n",
    "                d0 = dist(posi0,i0,j0)\n",
    "                if d0 > max_dist:\n",
    "                    max_dist = d0\n",
    "                dic0.setdefault( ( (t0,i0),((t0+1)%numCities0,j0) ), d0 )\n",
    "    return dic0, max_dist\n",
    "#"
   ]
  },
  {
   "cell_type": "code",
   "execution_count": 24,
   "metadata": {},
   "outputs": [],
   "source": [
    "######################　Ising System の、２次の、coefficientsの、第２項\n",
    "def spinCoefQuad02(posi0,A0):\n",
    "    numCities0 = len(posi0)\n",
    "    val0 = A0*2.0\n",
    "    dic0 = {}\n",
    "    for t0 in range(numCities0):\n",
    "        for i0 in range(numCities0):\n",
    "            for j0 in range(i0+1,numCities0,1):\n",
    "                dic0.setdefault( ((t0,i0),(t0,j0)),val0 )\n",
    "    return dic0\n",
    "#"
   ]
  },
  {
   "cell_type": "code",
   "execution_count": 25,
   "metadata": {},
   "outputs": [],
   "source": [
    "######################　Ising System の、２次の、coefficientsの、第３項\n",
    "def spinCoefQuad03(posi0,B0):\n",
    "    numCities0 = len(posi0)\n",
    "    val0 = B0*2.0\n",
    "    dic0 = {}\n",
    "    for i0 in range(numCities0):\n",
    "        for t0 in range(numCities0):\n",
    "            for t1 in range(t0+1,numCities0,1):\n",
    "                dic0.setdefault( ((t0,i0),(t1,i0)),val0 )\n",
    "    return dic0\n",
    "#"
   ]
  },
  {
   "cell_type": "code",
   "execution_count": 26,
   "metadata": {},
   "outputs": [],
   "source": [
    "##########################　Ising System の、２次の、coefficients全体\n",
    "def spinCoefQuad(posi0,A0):\n",
    "    dic01=spinCoefQuad01(posi0)\n",
    "    dic02=spinCoefQuad02(posi0,A0)\n",
    "    dic03=spinCoefQuad03(posi0,A0)\n",
    "    quad00=dic01[0]\n",
    "    quad00.update(dic02)\n",
    "    quad00.update(dic03)\n",
    "    return quad00\n",
    "#"
   ]
  },
  {
   "cell_type": "code",
   "execution_count": 58,
   "metadata": {},
   "outputs": [],
   "source": [
    "##################### response から、visiting-order Listに、へんかん、する。\n",
    "def visitingOrder(response0):\n",
    "    dic0=response0.first.sample\n",
    "    list0=[]\n",
    "    for key in dic0:\n",
    "        if 1==dic0[key]:\n",
    "            list0.append(key)\n",
    "    #print(list0)\n",
    "    list1=[]\n",
    "    for i0 in list0:\n",
    "        list1.append(i0[1])\n",
    "    #print(list1)\n",
    "    return list1       "
   ]
  },
  {
   "cell_type": "code",
   "execution_count": 59,
   "metadata": {},
   "outputs": [],
   "source": [
    "#################### X, Y coords を、もとデータから、Minimun Route に、\n",
    "#################### たいおう、するものに、ならべかえる。\n",
    "def reOrder(npArray0,visitOrderList0):\n",
    "    vOList0=visitOrderList0\n",
    "    len0=len(vOList0)\n",
    "    list0=[]\n",
    "    for i0 in range(len0):\n",
    "        list0.append(npArray0[vOList0[i0]])\n",
    "    list0.append(list0[0])    \n",
    "    return np.array(list0)    \n",
    "#    "
   ]
  },
  {
   "cell_type": "code",
   "execution_count": 60,
   "metadata": {},
   "outputs": [],
   "source": [
    "################### Minimum Route を、えがきだす。\n",
    "def drawMiniRoute(posi0,response0):\n",
    "    visitingOrder0=visitingOrder(response0)\n",
    "    posi22=reOrder(posi0,visitingOrder0)\n",
    "    plt.plot(posi22[:,0],posi22[:,1])\n",
    "    plt.show()"
   ]
  },
  {
   "cell_type": "markdown",
   "metadata": {},
   "source": [
    "<h3><b>[def End]</b></h3>"
   ]
  },
  {
   "cell_type": "markdown",
   "metadata": {},
   "source": [
    "<b>N=4, classical annealing case start</b>"
   ]
  },
  {
   "cell_type": "markdown",
   "metadata": {},
   "source": [
    "まず、X, Y Coords Data を、つくる。"
   ]
  },
  {
   "cell_type": "code",
   "execution_count": 117,
   "metadata": {},
   "outputs": [
    {
     "data": {
      "image/png": "[encoded data removed]",
      "text/plain": [
       "<Figure size 432x288 with 1 Axes>"
      ]
     },
     "metadata": {
      "needs_background": "light"
     },
     "output_type": "display_data"
    }
   ],
   "source": [
    "numCities00=4\n",
    "posi11=makeCityXYCoords(numCities00,0.1); # print(posi11)\n",
    "########### nCities の、graphを、えがく。\n",
    "plt.plot(posi11[:,0],posi11[:,1]);  plt.show()"
   ]
  },
  {
   "cell_type": "markdown",
   "metadata": {},
   "source": [
    "つぎは、Ising Spin 変数 s(t,i) の、１次、２次の、けいすうを、作成。"
   ]
  },
  {
   "cell_type": "code",
   "execution_count": 122,
   "metadata": {},
   "outputs": [],
   "source": [
    "distSumList11=distSumList(posi11)\n",
    "linear00=spinCoefLin(posi11,0.1,distSumList11)\n",
    "quad00 = spinCoefQuad(posi11,0.1)\n",
    "# solverは、classicalな、ものを、えらぶ。\n",
    "solver=neal.SimulatedAnnealingSampler()"
   ]
  },
  {
   "cell_type": "markdown",
   "metadata": {},
   "source": [
    "Ising System の、anneal を、実行させる。"
   ]
  },
  {
   "cell_type": "code",
   "execution_count": 123,
   "metadata": {},
   "outputs": [
    {
     "data": {
      "image/png": "[encoded data removed]",
      "text/plain": [
       "<Figure size 432x288 with 1 Axes>"
      ]
     },
     "metadata": {
      "needs_background": "light"
     },
     "output_type": "display_data"
    }
   ],
   "source": [
    "response=solver.sample_ising(linear00,quad00,num_reads=3)\n",
    "drawMiniRoute(posi11,response)"
   ]
  },
  {
   "cell_type": "markdown",
   "metadata": {},
   "source": [
    "<b>N=4, classical annealing case end<br>\n",
    "N=4, quantum annealing case start </b>"
   ]
  },
  {
   "cell_type": "markdown",
   "metadata": {},
   "source": [
    "solver を、quantum なものに、かえる。"
   ]
  },
  {
   "cell_type": "code",
   "execution_count": 16,
   "metadata": {},
   "outputs": [],
   "source": [
    "#solver = EmbeddingComposite(DWaveSampler())\n",
    "solver=neal.SimulatedAnnealingSampler()"
   ]
  },
  {
   "cell_type": "code",
   "execution_count": 128,
   "metadata": {},
   "outputs": [],
   "source": [
    "#response=solver.sample_ising(linear00,quad00,num_reads=3)\n",
    "#response"
   ]
  },
  {
   "cell_type": "markdown",
   "metadata": {},
   "source": [
    "「quotaが、もう、のこって、いない」との、Error Message が、でた。<br>\n",
    "とりあえずは、quantum は、いちじ、stopして、classicalを、もうすこし、やる。"
   ]
  },
  {
   "cell_type": "markdown",
   "metadata": {},
   "source": [
    "<b>N=6, classical annealing case start<br> </b>"
   ]
  },
  {
   "cell_type": "code",
   "execution_count": 124,
   "metadata": {},
   "outputs": [
    {
     "data": {
      "image/png": "[encoded data removed]",
      "text/plain": [
       "<Figure size 432x288 with 1 Axes>"
      ]
     },
     "metadata": {
      "needs_background": "light"
     },
     "output_type": "display_data"
    }
   ],
   "source": [
    "numCities00=6\n",
    "posi11=makeCityXYCoords(numCities00,0.1); # print(posi11)\n",
    "########### nCities の、graphを、えがく。\n",
    "plt.plot(posi11[:,0],posi11[:,1]);  plt.show()"
   ]
  },
  {
   "cell_type": "code",
   "execution_count": 127,
   "metadata": {},
   "outputs": [
    {
     "data": {
      "image/png": "[encoded data removed]",
      "text/plain": [
       "<Figure size 432x288 with 1 Axes>"
      ]
     },
     "metadata": {
      "needs_background": "light"
     },
     "output_type": "display_data"
    }
   ],
   "source": [
    "distSumList11=distSumList(posi11)\n",
    "linear00=spinCoefLin(posi11,10.0,distSumList11)\n",
    "quad00 = spinCoefQuad(posi11,10.0)\n",
    "solver=neal.SimulatedAnnealingSampler()\n",
    "response=solver.sample_ising(linear00,quad00,num_reads=3)\n",
    "drawMiniRoute(posi11,response)"
   ]
  },
  {
   "cell_type": "markdown",
   "metadata": {},
   "source": [
    "<b>N=8, classical annealing case start<br> </b>"
   ]
  },
  {
   "cell_type": "code",
   "execution_count": 87,
   "metadata": {},
   "outputs": [
    {
     "data": {
      "image/png": "[encoded data removed]",
      "text/plain": [
       "<Figure size 432x288 with 1 Axes>"
      ]
     },
     "metadata": {
      "needs_background": "light"
     },
     "output_type": "display_data"
    }
   ],
   "source": [
    "numCities00=8\n",
    "posi11=makeCityXYCoords(numCities00,0.1); # print(posi11)\n",
    "########### nCities の、graphを、えがく。\n",
    "plt.plot(posi11[:,0],posi11[:,1]);  plt.show()"
   ]
  },
  {
   "cell_type": "code",
   "execution_count": 88,
   "metadata": {},
   "outputs": [
    {
     "data": {
      "image/png": "[encoded data removed]",
      "text/plain": [
       "<Figure size 432x288 with 1 Axes>"
      ]
     },
     "metadata": {
      "needs_background": "light"
     },
     "output_type": "display_data"
    }
   ],
   "source": [
    "distSumList11=distSumList(posi11)\n",
    "linear00=spinCoefLin(posi11,10.0,distSumList11)\n",
    "quad00 = spinCoefQuad(posi11,10.0)\n",
    "solver=neal.SimulatedAnnealingSampler()\n",
    "response=solver.sample_ising(linear00,quad00,num_reads=3)\n",
    "drawMiniRoute(posi11,response)"
   ]
  },
  {
   "cell_type": "markdown",
   "metadata": {},
   "source": [
    "<b>N=8, classical annealing case end<br>\n",
    "N=10, classical annealing case start</b>"
   ]
  },
  {
   "cell_type": "code",
   "execution_count": 93,
   "metadata": {},
   "outputs": [
    {
     "data": {
      "image/png": "[encoded data removed]",
      "text/plain": [
       "<Figure size 432x288 with 1 Axes>"
      ]
     },
     "metadata": {
      "needs_background": "light"
     },
     "output_type": "display_data"
    }
   ],
   "source": [
    "numCities00=10\n",
    "posi11=makeCityXYCoords(numCities00,10.0); # print(posi11)\n",
    "########### nCities の、graphを、えがく。\n",
    "plt.plot(posi11[:,0],posi11[:,1]);  plt.show()"
   ]
  },
  {
   "cell_type": "code",
   "execution_count": 94,
   "metadata": {},
   "outputs": [
    {
     "data": {
      "image/png": "[encoded data removed]",
      "text/plain": [
       "<Figure size 432x288 with 1 Axes>"
      ]
     },
     "metadata": {
      "needs_background": "light"
     },
     "output_type": "display_data"
    }
   ],
   "source": [
    "distSumList11=distSumList(posi11)\n",
    "linear00=spinCoefLin(posi11,10.0,distSumList11)\n",
    "quad00 = spinCoefQuad(posi11,10.0)\n",
    "solver=neal.SimulatedAnnealingSampler()\n",
    "response=solver.sample_ising(linear00,quad00,num_reads=3)\n",
    "drawMiniRoute(posi11,response)"
   ]
  },
  {
   "cell_type": "markdown",
   "metadata": {},
   "source": [
    "<b>N=10, classical annealing case end</b>"
   ]
  },
  {
   "cell_type": "markdown",
   "metadata": {},
   "source": [
    "#############################\n",
    "#############################\n",
    "#############################"
   ]
  },
  {
   "cell_type": "code",
   "execution_count": null,
   "metadata": {},
   "outputs": [],
   "source": []
  }
 ],
 "metadata": {
  "kernelspec": {
   "display_name": "Python 3",
   "language": "python",
   "name": "python3"
  },
  "language_info": {
   "codemirror_mode": {
    "name": "ipython",
    "version": 3
   },
   "file_extension": ".py",
   "mimetype": "text/x-python",
   "name": "python",
   "nbconvert_exporter": "python",
   "pygments_lexer": "ipython3",
   "version": "3.7.1"
  }
 },
 "nbformat": 4,
 "nbformat_minor": 2
}
